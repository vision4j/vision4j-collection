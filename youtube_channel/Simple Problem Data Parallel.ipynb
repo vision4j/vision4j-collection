{
 "cells": [
  {
   "cell_type": "code",
   "execution_count": 1,
   "metadata": {
    "collapsed": true
   },
   "outputs": [],
   "source": [
    "import numpy as np\n",
    "import random\n",
    "from time import time\n",
    "from tqdm import tqdm_notebook"
   ]
  },
  {
   "cell_type": "markdown",
   "metadata": {},
   "source": [
    "Problem: we have two arrays $a$ and $b$, and we want to find for each element in $a$ the closest element in $b$"
   ]
  },
  {
   "cell_type": "code",
   "execution_count": 2,
   "metadata": {
    "collapsed": true
   },
   "outputs": [],
   "source": [
    "common = np.array(random.sample(range(1000), 500))\n",
    "a = np.random.randint(low=0, high=10, size=int(2e5))\n",
    "b = np.random.randint(low=0, high=8, size=int(1e3))\n",
    "a_indices = random.sample(range(len(a)), len(common))\n",
    "a[a_indices] = common\n",
    "b_indices = random.sample(range(len(b)), len(common))\n",
    "b[b_indices] = common"
   ]
  },
  {
   "cell_type": "code",
   "execution_count": 3,
   "metadata": {},
   "outputs": [
    {
     "data": {
      "text/plain": [
       "(200000,)"
      ]
     },
     "execution_count": 3,
     "metadata": {},
     "output_type": "execute_result"
    }
   ],
   "source": [
    "a.shape"
   ]
  },
  {
   "cell_type": "code",
   "execution_count": 4,
   "metadata": {},
   "outputs": [
    {
     "data": {
      "text/plain": [
       "(1000,)"
      ]
     },
     "execution_count": 4,
     "metadata": {},
     "output_type": "execute_result"
    }
   ],
   "source": [
    "b.shape"
   ]
  },
  {
   "cell_type": "code",
   "execution_count": 5,
   "metadata": {},
   "outputs": [
    {
     "data": {
      "application/vnd.jupyter.widget-view+json": {
       "model_id": "54b5f2a3aec24dc68226c9fa7327f42a",
       "version_major": 2,
       "version_minor": 0
      },
      "text/plain": [
       "A Jupyter Widget"
      ]
     },
     "metadata": {},
     "output_type": "display_data"
    },
    {
     "name": "stdout",
     "output_type": "stream",
     "text": [
      "\n"
     ]
    }
   ],
   "source": [
    "a_closest = []\n",
    "for i in tqdm_notebook(range(len(a))):\n",
    "    index_closest = 0\n",
    "    for j in range(len(b)):\n",
    "        if abs(a[i] - b[j]) < abs(a[i] - b[index_closest]):\n",
    "            index_closest = j\n",
    "    a_closest.append(index_closest)"
   ]
  },
  {
   "cell_type": "code",
   "execution_count": 26,
   "metadata": {},
   "outputs": [
    {
     "data": {
      "text/plain": [
       "5.501345872879028"
      ]
     },
     "execution_count": 26,
     "metadata": {},
     "output_type": "execute_result"
    }
   ],
   "source": [
    "start = time()\n",
    "a_repeat = np.repeat(np.expand_dims(a, axis=0), len(b), axis=0)\n",
    "b_repeat = np.repeat(np.expand_dims(b, axis=0), len(a), axis=0)\n",
    "diffs = np.abs(a_repeat - b_repeat.T)\n",
    "cartesian_a_closest = np.argmin(diffs, axis=0)\n",
    "np.count_nonzero(np.abs(cartesian_a_closest - np.array(a_closest)))\n",
    "time() - start"
   ]
  },
  {
   "cell_type": "code",
   "execution_count": 78,
   "metadata": {},
   "outputs": [
    {
     "data": {
      "text/plain": [
       "0.017026185989379883"
      ]
     },
     "execution_count": 78,
     "metadata": {},
     "output_type": "execute_result"
    }
   ],
   "source": [
    "start = time()\n",
    "sorted_b = np.argsort(b)\n",
    "indices = np.searchsorted(b, a, sorter=sorted_b)\n",
    "indices[~(indices < len(b))] -= 1\n",
    "left_shifted = indices.copy()\n",
    "left_shifted -= 1\n",
    "left_shifted[left_shifted < 0] = 0 \n",
    "left_diffs = np.abs(a - b[sorted_b][left_shifted])\n",
    "diffs = np.abs(a - b[sorted_b][indices])\n",
    "closest_selection = np.argmin(np.column_stack((left_diffs, diffs)), axis=1)\n",
    "closest_indices = indices.copy()\n",
    "closest_indices[closest_selection == 0] = left_shifted[closest_selection == 0]\n",
    "time() - start"
   ]
  },
  {
   "cell_type": "code",
   "execution_count": null,
   "metadata": {
    "collapsed": true
   },
   "outputs": [],
   "source": []
  }
 ],
 "metadata": {
  "kernelspec": {
   "display_name": "Python 3",
   "language": "/home/hvrigazov/anaconda2/envs/lightweight_pose/bin/python",
   "name": "python3"
  },
  "language_info": {
   "codemirror_mode": {
    "name": "ipython",
    "version": 2
   },
   "file_extension": ".py",
   "mimetype": "text/x-python",
   "name": "python",
   "nbconvert_exporter": "python",
   "pygments_lexer": "ipython2",
   "version": "2.7.14"
  }
 },
 "nbformat": 4,
 "nbformat_minor": 2
}
